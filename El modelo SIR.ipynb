{
 "cells": [
  {
   "cell_type": "code",
   "execution_count": 104,
   "metadata": {},
   "outputs": [],
   "source": [
    "#Visualización de soluciones de Ecuaciones diferenciales\n",
    "#El modelo SIR\n",
    "import numpy as np \n",
    "from scipy.integrate import odeint\n",
    "import matplotlib.pyplot as plt\n",
    "\n",
    "#Parámetros del modelo \n",
    "beta, gama = 0.4, 0.07\n",
    "tmax = 365\n",
    "t = np.linspace(0,tmax, tmax*50)"
   ]
  },
  {
   "cell_type": "code",
   "execution_count": 105,
   "metadata": {},
   "outputs": [],
   "source": [
    "#Definición del lado derecho del modelo \n",
    "def modSIR(y,t,beta,gama):\n",
    "    S, I, R = y\n",
    "    dSdt = -beta*S*I\n",
    "    dIdt = beta*S*I-gama*I\n",
    "    dRdt = gama*I\n",
    "    return dSdt, dIdt, dRdt"
   ]
  },
  {
   "cell_type": "code",
   "execution_count": 106,
   "metadata": {},
   "outputs": [],
   "source": [
    "#Condiciones iniciales \n",
    "S0, I0, R0 = 25, 1, 0\n",
    "y0 = S0, I0, R0\n",
    "#\n",
    "solucion = odeint(modSIR, y0, t, args=(beta,gama))\n",
    "S, I, R = solucion.T"
   ]
  },
  {
   "cell_type": "code",
   "execution_count": 107,
   "metadata": {},
   "outputs": [
    {
     "data": {
      "text/plain": [
       "(25, 1, 0)"
      ]
     },
     "execution_count": 107,
     "metadata": {},
     "output_type": "execute_result"
    }
   ],
   "source": [
    "y0"
   ]
  },
  {
   "cell_type": "code",
   "execution_count": 108,
   "metadata": {},
   "outputs": [
    {
     "data": {
      "text/plain": [
       "(18250, 3)"
      ]
     },
     "execution_count": 108,
     "metadata": {},
     "output_type": "execute_result"
    }
   ],
   "source": [
    "solucion.shape"
   ]
  },
  {
   "cell_type": "code",
   "execution_count": 112,
   "metadata": {},
   "outputs": [
    {
     "data": {
      "image/png": "[encoded data removed]",
      "text/plain": [
       "<Figure size 432x288 with 1 Axes>"
      ]
     },
     "metadata": {
      "needs_background": "light"
     },
     "output_type": "display_data"
    }
   ],
   "source": [
    "#Gráfica de las soluciones \n",
    "%matplotlib inline\n",
    "fig = plt.figure()\n",
    "plt.plot(t, S, 'b', label=\"Susceptibles\")\n",
    "plt.plot(t, I, 'r', label=\"Infecciosos\")\n",
    "plt.plot(t, R, 'g', label=\"Recuperados\")\n",
    "plt.xlim=range(0,10)\n",
    "plt.xlabel(\"Tiempo\")\n",
    "plt.ylabel(\"Número\")\n",
    "legend = fig.legend()\n",
    "legend.get_frame().set_alpha(0.5)\n",
    "plt.savefig(\"ModeloSIR.jpg\")"
   ]
  },
  {
   "cell_type": "code",
   "execution_count": null,
   "metadata": {},
   "outputs": [],
   "source": [
    "#modelo del quimiostato"
   ]
  },
  {
   "cell_type": "code",
   "execution_count": null,
   "metadata": {},
   "outputs": [],
   "source": []
  },
  {
   "cell_type": "code",
   "execution_count": null,
   "metadata": {},
   "outputs": [],
   "source": []
  }
 ],
 "metadata": {
  "kernelspec": {
   "display_name": "Python 3",
   "language": "python",
   "name": "python3"
  },
  "language_info": {
   "codemirror_mode": {
    "name": "ipython",
    "version": 3
   },
   "file_extension": ".py",
   "mimetype": "text/x-python",
   "name": "python",
   "nbconvert_exporter": "python",
   "pygments_lexer": "ipython3",
   "version": "3.7.0"
  }
 },
 "nbformat": 4,
 "nbformat_minor": 2
}
